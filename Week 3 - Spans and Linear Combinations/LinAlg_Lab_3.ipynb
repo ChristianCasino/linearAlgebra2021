{
  "nbformat": 4,
  "nbformat_minor": 0,
  "metadata": {
    "kernelspec": {
      "display_name": "Python 3",
      "language": "python",
      "name": "python3"
    },
    "language_info": {
      "codemirror_mode": {
        "name": "ipython",
        "version": 3
      },
      "file_extension": ".py",
      "mimetype": "text/x-python",
      "name": "python",
      "nbconvert_exporter": "python",
      "pygments_lexer": "ipython3",
      "version": "3.8.3"
    },
    "colab": {
      "name": "LinAlg Lab 3.ipynb",
      "provenance": [],
      "include_colab_link": true
    }
  },
  "cells": [
    {
      "cell_type": "markdown",
      "metadata": {
        "id": "view-in-github",
        "colab_type": "text"
      },
      "source": [
        "<a href=\"https://colab.research.google.com/github/dyjdlopez/linearAlgebra2021/blob/main/Week%203%20-%20Spans%20and%20Linear%20Combinations/LinAlg_Lab_3.ipynb\" target=\"_parent\"><img src=\"https://colab.research.google.com/assets/colab-badge.svg\" alt=\"Open In Colab\"/></a>"
      ]
    },
    {
      "cell_type": "markdown",
      "metadata": {
        "id": "Y37cHOf3no0d"
      },
      "source": [
        "# Linear Algebra for CpE\n",
        "## Laboratory 3 : Linear Combination and Vector Spaces"
      ]
    },
    {
      "cell_type": "markdown",
      "metadata": {
        "id": "jl5zc03Bno0i"
      },
      "source": [
        "Now that you have a fundamental knowledge about linear combination, we'll try to visualize it using scientific programming."
      ]
    },
    {
      "cell_type": "markdown",
      "metadata": {
        "id": "ecxaJewFno0j"
      },
      "source": [
        "### Objectives\n",
        "At the end of this activity you will be able to:\n",
        "1. Be familiar with representing linear combinations in the 2-dimensional plane.\n",
        "2. Visualize spans using vector fields in Python.\n",
        "3. Perform vector fields operations using scientific programming."
      ]
    },
    {
      "cell_type": "markdown",
      "metadata": {
        "id": "HkxcW0SZno0j"
      },
      "source": [
        "## Discussion"
      ]
    },
    {
      "cell_type": "code",
      "metadata": {
        "id": "2JwNep_Tno0k"
      },
      "source": [
        "import numpy as np\n",
        "import matplotlib.pyplot as plt"
      ],
      "execution_count": 1,
      "outputs": []
    },
    {
      "cell_type": "markdown",
      "metadata": {
        "id": "B19YX8Lcno0k"
      },
      "source": [
        "## Linear Combination"
      ]
    },
    {
      "cell_type": "markdown",
      "metadata": {
        "id": "-G9tjM9bno0k"
      },
      "source": [
        "It is said that a linear combination is the combination of linear scaling and addition of a vector its bases/components"
      ]
    },
    {
      "cell_type": "markdown",
      "metadata": {
        "id": "mQYOtQmdno0l"
      },
      "source": [
        "We will try to visualize the vectors and their linear combinations by plotting a sample of real number values for the scalars for the vectors. Let's first try the vectors below:"
      ]
    },
    {
      "cell_type": "markdown",
      "metadata": {
        "id": "UhPJ1IMBno0l"
      },
      "source": [
        "$$X = \\begin{bmatrix} 2\\\\5 \\\\\\end{bmatrix} , Y = \\begin{bmatrix} 7\\\\9 \\\\\\end{bmatrix} $$"
      ]
    },
    {
      "cell_type": "code",
      "metadata": {
        "id": "5KOG3IkAno0l"
      },
      "source": [
        "vectX =  np.array([2,5])\n",
        "vectY =  np.array([7,9])"
      ],
      "execution_count": 2,
      "outputs": []
    },
    {
      "cell_type": "markdown",
      "metadata": {
        "id": "AeHNRBamno0l"
      },
      "source": [
        "#### Span of single vectors"
      ]
    },
    {
      "cell_type": "markdown",
      "metadata": {
        "id": "PQmCm9s0no0m"
      },
      "source": [
        "As discussed in the lecture, the span of individual vectors can be represented by a line span. Let's take vector $X$ as an example."
      ]
    },
    {
      "cell_type": "markdown",
      "metadata": {
        "id": "KBfySb6nno0m"
      },
      "source": [
        "$$X = c\\cdot \\begin{bmatrix} 2\\\\5 \\\\\\end{bmatrix} $$"
      ]
    },
    {
      "cell_type": "code",
      "metadata": {
        "colab": {
          "base_uri": "https://localhost:8080/",
          "height": 269
        },
        "id": "pAd0DdCsno0m",
        "outputId": "20e599bc-a7fc-4b56-a9b8-4ff9efd39aaa"
      },
      "source": [
        "c = np.arange(-10,10,0.0125)\n",
        "\n",
        "plt.scatter(c*vectX[0],c*vectX[1])\n",
        "\n",
        "\n",
        "plt.xlim(-10,10)\n",
        "plt.ylim(-10,10)\n",
        "plt.axhline(y=0, color='k')\n",
        "plt.axvline(x=0, color='k')\n",
        "plt.grid()\n",
        "plt.show()"
      ],
      "execution_count": 8,
      "outputs": [
        {
          "output_type": "display_data",
          "data": {
            "image/png": "[encoded data removed]",
            "text/plain": [
              "<Figure size 432x288 with 1 Axes>"
            ]
          },
          "metadata": {
            "tags": [],
            "needs_background": "light"
          }
        }
      ]
    },
    {
      "cell_type": "markdown",
      "metadata": {
        "id": "-l0IyJC9no0n"
      },
      "source": [
        "### Span of a linear combination of vectors"
      ]
    },
    {
      "cell_type": "markdown",
      "metadata": {
        "id": "-FZytiaxno0n"
      },
      "source": [
        "So what if we are to plot the span of a linear combination of vectors? We can visualize as a plane on the 2-dimensional coordinate system. Let's take the span of the linear combination below:"
      ]
    },
    {
      "cell_type": "markdown",
      "metadata": {
        "id": "rtWtsSzMno0n"
      },
      "source": [
        "$$S = \\begin{Bmatrix} c_1 \\cdot\\begin{bmatrix} 1\\\\0 \\\\\\end{bmatrix}, \n",
        "c_2 \\cdot \\begin{bmatrix} 1\\\\-1 \\\\\\end{bmatrix}\\end{Bmatrix} $$"
      ]
    },
    {
      "cell_type": "code",
      "metadata": {
        "colab": {
          "base_uri": "https://localhost:8080/",
          "height": 265
        },
        "id": "FZYABlOHno0n",
        "outputId": "ffc61fee-d0d5-402a-f784-6dcb5d5e7e5c"
      },
      "source": [
        "vectA = np.array([1,0])\n",
        "vectB = np.array([1,-1])\n",
        "\n",
        "R = np.arange(-10,10,1)\n",
        "\n",
        "c1, c2 = np.meshgrid(R,R)\n",
        "vectR = vectA + vectB\n",
        "spanRx = c1*vectA[0] + c2*vectB[0]\n",
        "spanRy = c1*vectA[1] + c2*vectB[1]\n",
        "plt.scatter(spanRx,spanRy, s=5, alpha=0.75)\n",
        "\n",
        "plt.axhline(y=0, color='k')\n",
        "plt.axvline(x=0, color='k')\n",
        "plt.grid()\n",
        "plt.show()"
      ],
      "execution_count": 16,
      "outputs": [
        {
          "output_type": "display_data",
          "data": {
            "image/png": "[encoded data removed]",
            "text/plain": [
              "<Figure size 432x288 with 1 Axes>"
            ]
          },
          "metadata": {
            "tags": [],
            "needs_background": "light"
          }
        }
      ]
    },
    {
      "cell_type": "markdown",
      "metadata": {
        "id": "diH9hjvono0o"
      },
      "source": [
        "Take note that if vectors are seen to be as a 2-dimensional span we can say it has a Rank of 2 or $\\mathbb{R}^2$. But if the span of the linear combination of vectors are seen to be like a line, they are said to be <b> linearly dependent </b> and they have a rank of 1 or $\\mathbb{R}^1$."
      ]
    },
    {
      "cell_type": "markdown",
      "metadata": {
        "id": "UUMC4G7r2R4m"
      },
      "source": [
        "## Vector Inner Product\r\n",
        "\r\n",
        "$$C = \\begin{bmatrix} 1\\\\2 \\\\ 3\\end{bmatrix} , X = \\begin{bmatrix} 0\\\\-1 \\\\\\frac{1}{2}\\end{bmatrix} \\\\\r\n",
        "V = C \\cdot X$$"
      ]
    },
    {
      "cell_type": "code",
      "metadata": {
        "id": "WDpW9By_2XNN"
      },
      "source": [
        "C = np.array([1,2,3])\r\n",
        "X = np.array([0,-1,0.5])"
      ],
      "execution_count": 18,
      "outputs": []
    },
    {
      "cell_type": "code",
      "metadata": {
        "colab": {
          "base_uri": "https://localhost:8080/"
        },
        "id": "ZZsrkzbK20uV",
        "outputId": "62fc1b98-90b2-40b8-8f47-65287e03914e"
      },
      "source": [
        "V = np.inner(C,X)\r\n",
        "V"
      ],
      "execution_count": 20,
      "outputs": [
        {
          "output_type": "execute_result",
          "data": {
            "text/plain": [
              "-0.5"
            ]
          },
          "metadata": {
            "tags": []
          },
          "execution_count": 20
        }
      ]
    },
    {
      "cell_type": "code",
      "metadata": {
        "colab": {
          "base_uri": "https://localhost:8080/"
        },
        "id": "tg3FXU8_3E5n",
        "outputId": "477dd099-e1ad-4147-ca38-3fa732de0eb0"
      },
      "source": [
        "V = C @ X\r\n",
        "V"
      ],
      "execution_count": 21,
      "outputs": [
        {
          "output_type": "execute_result",
          "data": {
            "text/plain": [
              "-0.5"
            ]
          },
          "metadata": {
            "tags": []
          },
          "execution_count": 21
        }
      ]
    },
    {
      "cell_type": "code",
      "metadata": {
        "colab": {
          "base_uri": "https://localhost:8080/"
        },
        "id": "BdPQDr3s3Yil",
        "outputId": "f0c980e9-c71c-4a55-ab93-6f6d0685dd8f"
      },
      "source": [
        "w = np.array([0.3,0.3,0.4])\r\n",
        "grades = np.array([80.0, 69.4, 88.1])\r\n",
        "w @ grades"
      ],
      "execution_count": 23,
      "outputs": [
        {
          "output_type": "execute_result",
          "data": {
            "text/plain": [
              "80.06"
            ]
          },
          "metadata": {
            "tags": []
          },
          "execution_count": 23
        }
      ]
    },
    {
      "cell_type": "markdown",
      "metadata": {
        "id": "2JQga_8Zno0o"
      },
      "source": [
        "# Activity"
      ]
    },
    {
      "cell_type": "markdown",
      "metadata": {
        "id": "bApa6c46no0o"
      },
      "source": [
        "### Task 1"
      ]
    },
    {
      "cell_type": "markdown",
      "metadata": {
        "id": "6ACvNp71no0o"
      },
      "source": [
        "Try different linear combinations using different scalar values. In your methodology discuss the different functions that you have used, the  linear equation and vector form of the linear combination, and the flowchart for declaring and displaying linear combinations. Please make sure that your flowchart has only few words and not putting the entire code as it is bad practice. In your results, display and discuss the linear combination visualization you made. You should use the cells below for displaying the equation markdows using LaTeX and your code."
      ]
    },
    {
      "cell_type": "markdown",
      "metadata": {
        "id": "dV6U0bKZno0p"
      },
      "source": [
        "$$\n",
        "\\text{Space for the general linear equation form}\n",
        "$$"
      ]
    },
    {
      "cell_type": "markdown",
      "metadata": {
        "id": "zWhZ2Yikno0p"
      },
      "source": [
        "$$\r\n",
        "\\text{Space for the vector form}\r\n",
        "$$"
      ]
    },
    {
      "cell_type": "code",
      "metadata": {
        "id": "co_9PyjQno0p"
      },
      "source": [
        "### TYPE YOU CODE FOR TASK 1 HERE"
      ],
      "execution_count": null,
      "outputs": []
    },
    {
      "cell_type": "markdown",
      "metadata": {
        "id": "Zfi1tiP6no0p"
      },
      "source": [
        "### Task 2"
      ]
    },
    {
      "cell_type": "markdown",
      "metadata": {
        "id": "L6qHeQYfno0p"
      },
      "source": [
        "Try making three unque spans using different linear combinations . In your methodology discuss the different functions that you have used, the  linear equations and vector form of span, and the flowchart for declaring and displaying span. Please make sure that your flowchart has only few words and not putting the entire code as it is bad practice. In your results, display and discuss the span visualization you made. You should use the cells below for displaying the equation markdows using LaTeX and your code."
      ]
    },
    {
      "cell_type": "markdown",
      "metadata": {
        "id": "hGoxaEuqno0p"
      },
      "source": [
        "$$\n",
        "\\text{Space for the general linear equation form}\n",
        "$$"
      ]
    },
    {
      "cell_type": "markdown",
      "metadata": {
        "id": "OHXGr5Aeno0q"
      },
      "source": [
        "$$\r\n",
        "\\text{Space for the vector form}\r\n",
        "$$"
      ]
    },
    {
      "cell_type": "code",
      "metadata": {
        "id": "WqzYaZJ_no0q"
      },
      "source": [
        "### TYPE YOU CODE FOR TASK 2 HERE"
      ],
      "execution_count": null,
      "outputs": []
    },
    {
      "cell_type": "markdown",
      "metadata": {
        "id": "PAqvCS1wno0q"
      },
      "source": [
        "## Discussion Questions"
      ]
    },
    {
      "cell_type": "markdown",
      "metadata": {
        "id": "IUHJd9Tdno0q"
      },
      "source": [
        "Append your discussion at the end of the results section of your report just before your conclusion. Try to answer the following questions. Do not forget to cite your sources."
      ]
    },
    {
      "cell_type": "markdown",
      "metadata": {
        "id": "3mjBuHkNno0q"
      },
      "source": [
        "1. You might have notices that the dimensions plot of linear combinations change according to its rank. If a vector is $\\mathbb{R}=1$ the plot of its linear combination is one-dimensional or a line, and if $\\mathbb{R}=2$ the plot is a plane. What will be the shape of the vector visualization if $\\mathbb{R} = 3$ and if $\\mathbb{R} = 4$?\n",
        "\n",
        "2. Kindly discuss the role of unit vectors in relation to linear combinations.\n",
        "\n"
      ]
    },
    {
      "cell_type": "markdown",
      "metadata": {
        "id": "3aOKeLoIno0r"
      },
      "source": [
        "## Conclusion guide"
      ]
    },
    {
      "cell_type": "markdown",
      "metadata": {
        "id": "LNs6g4OSno0r"
      },
      "source": [
        "For your conclusion synthesize the concept and application of the laboratory. Briefly discuss what you have learn and achieved in this activity. At the end of your conclusion try to answer the question : \"How can you apply the concept of linear combination in engineeing or real-life situations?\"."
      ]
    }
  ]
}