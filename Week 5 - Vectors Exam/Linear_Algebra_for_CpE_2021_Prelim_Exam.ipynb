{
  "nbformat": 4,
  "nbformat_minor": 0,
  "metadata": {
    "colab": {
      "name": "Linear Algebra for CpE 2021 Prelim Exam",
      "provenance": [],
      "authorship_tag": "ABX9TyNq9k4aEynNBrr/vqUxm0tY",
      "include_colab_link": true
    },
    "kernelspec": {
      "name": "python3",
      "display_name": "Python 3"
    }
  },
  "cells": [
    {
      "cell_type": "markdown",
      "metadata": {
        "id": "view-in-github",
        "colab_type": "text"
      },
      "source": [
        "<a href=\"https://colab.research.google.com/github/dyjdlopez/linearAlgebra2021/blob/main/Week%205%20-%20Vectors%20Exam/Linear_Algebra_for_CpE_2021_Prelim_Exam.ipynb\" target=\"_parent\"><img src=\"https://colab.research.google.com/assets/colab-badge.svg\" alt=\"Open In Colab\"/></a>"
      ]
    },
    {
      "cell_type": "markdown",
      "metadata": {
        "id": "qAPMetFeHDnM"
      },
      "source": [
        "<h2>Bebang's Online Business </h2>\r\n",
        "You have a friend named Bebang who has an online business in which she sells donuts. She asks you to make something that helps her to observe the increase and decrease of her profit considering the reach of her online posts. As novice data analytic engineers, you suggest to make a plotter using vectors of her weekly profit and FB post reach for a month. She is amazed that you have this idea and will pay you 15,000 PHP for the program. "
      ]
    },
    {
      "cell_type": "markdown",
      "metadata": {
        "id": "uoGa3O0AHIBK"
      },
      "source": [
        "Consider the computational algorithm:\r\n",
        "\r\n",
        "The efficiency is composed of the profit ($p$) and FaceBook post reach ($r$).\r\n",
        "\r\n",
        "Let the magnitude of the monthly efficiency be $E_m$, weekly efficiency be $E_w$, the y component of the monthly efficiency as $E_m\\hat{y}$, the x component of the monthly efficiency as $E_m\\hat{x}$, and $\\theta$ as the gradient of the efficiency.\r\n",
        "\r\n",
        "$$\r\n",
        "E_w = r \\hat{x} + p \\hat{y} \\\\ _{(Eq.1)} \\\\\r\n",
        "$$\r\n",
        "<br>\r\n",
        "$$\r\n",
        "E_m = \\sqrt{\\sum{(E_w)^2}}\\\\ _{(Eq.2)} \\\\\r\n",
        "$$<br>\r\n",
        "$$\r\n",
        "\\theta = \\arctan{\\left(\\frac{E_m\\hat{y}}{E_m\\hat{x}+\\alpha} \\right)}\\\\ _{(Eq.3)} \r\n",
        "$$"
      ]
    },
    {
      "cell_type": "code",
      "metadata": {
        "id": "rH3qTFgmG-Nf"
      },
      "source": [
        "'''\r\n",
        "GRADED FUNCTION\r\n",
        "This is the starter code that you would use for Bebang's project. You may use Part 1 as a reference to complete this code.\r\n",
        "Please provide proper documentation, commenting, and necessary revisions to make the code clean and understandable.\r\n",
        "'''\r\n",
        "## START OF FUNCTION\r\n",
        "def month_profit_trace(profit, reach, make_figs=True): \r\n",
        "    if (profit.shape == (4,)) and (revenue.shape == (4,)): \r\n",
        "        e_week1 = np.array((reach[0], profit[0]))         ## Setup the weekly efficiency vectors \r\n",
        "        e_week2 = None\r\n",
        "        e_week3 = None\r\n",
        "        e_week4 = None\r\n",
        "        \r\n",
        "        e_month = None     \r\n",
        "        e_month_magnitude = None\r\n",
        "        alpha = None                                    \r\n",
        "        theta = None  \r\n",
        "        theta = np.degrees(theta)   \r\n",
        "        \r\n",
        "\r\n",
        "        plt.figure(figsize=(16,5))\r\n",
        "        plt.title('Bebang\\'s Month Post Efficiency')\r\n",
        "        plt.xlim(0,1.01*np.sum(reach))\r\n",
        "        plt.ylim(-np.sum(np.abs(profit)),np.sum(np.abs(profit)))\r\n",
        "        plt.xlabel('FB Post Reach Increment')\r\n",
        "        plt.ylabel('Profit')\r\n",
        "        plt.grid()\r\n",
        "        n = 2\r\n",
        "        \r\n",
        "        plt.quiver(0,0, e_week1[0], e_week1[1], \r\n",
        "                   angles='xy', scale_units='xy',scale=1, color='yellowgreen', width=0.0025,\r\n",
        "                   label='Week 1: {:.2f}'.format(np.linalg.norm(e_week1)))\r\n",
        "        \r\n",
        "        ## put necessary vector plotting code here\r\n",
        "\r\n",
        "        plt.quiver(0,0, e_month[0], e_month[1], \r\n",
        "                   angles='xy', scale_units='xy',scale=1, color='red', width=0.005,\r\n",
        "                  label='Efficiency: {:.2f} @ {:.2f}'.format(e_month_magnitude, theta))\r\n",
        "\r\n",
        "        plt.legend(loc='upper left')\r\n",
        "\r\n",
        "        if make_figs:\r\n",
        "            plt.savefig(f'LinAlg-Lab2-Bebang Post Eff-{int(e_month_magnitude)}@{int(theta)}.png', dpi=300)\r\n",
        "\r\n",
        "        plt.show()\r\n",
        "    \r\n",
        "    else:\r\n",
        "        print('Dimension error') ## Make a more appropriate error statement. \r\n",
        "\r\n",
        "## END OF FUNCTION  "
      ],
      "execution_count": null,
      "outputs": []
    },
    {
      "cell_type": "code",
      "metadata": {
        "id": "SugajdX4MnWE"
      },
      "source": [
        "profit= np.array([-18000, 3000, 12000, 10000])    ## You can change the values to make different scenarios\r\n",
        "reach = np.array([1000, 100, 500, 10])             ## You can change the values to make different scenarios\r\n",
        "\r\n",
        "month_profit_trace(profit, reach, make_figs=False) ## Toggle 'make_figs' during debugging or making documentations"
      ],
      "execution_count": null,
      "outputs": []
    }
  ]
}